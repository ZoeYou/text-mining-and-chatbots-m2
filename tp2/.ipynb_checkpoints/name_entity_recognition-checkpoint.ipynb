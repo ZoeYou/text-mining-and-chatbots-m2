{
 "cells": [
  {
   "cell_type": "markdown",
   "metadata": {
    "toc": true
   },
   "source": [
    "<h1>Table of Contents<span class=\"tocSkip\"></span></h1>\n",
    "<div class=\"toc\"><ul class=\"toc-item\"><li><span><a href=\"#Introduction-of-dataset\" data-toc-modified-id=\"Introduction-of-dataset-1\"><span class=\"toc-item-num\">1&nbsp;&nbsp;</span>Introduction of dataset</a></span><ul class=\"toc-item\"><li><span><a href=\"#Descriptive-Statistics\" data-toc-modified-id=\"Descriptive-Statistics-1.1\"><span class=\"toc-item-num\">1.1&nbsp;&nbsp;</span>Descriptive Statistics</a></span></li></ul></li></ul></div>"
   ]
  },
  {
   "cell_type": "markdown",
   "metadata": {},
   "source": [
    "Name: Jiangnan HUANG, You ZUO\n",
    "\n",
    "Date: 12/01/2021"
   ]
  },
  {
   "cell_type": "markdown",
   "metadata": {},
   "source": [
    "# Introduction of dataset"
   ]
  },
  {
   "cell_type": "markdown",
   "metadata": {},
   "source": [
    "We will use two datasets with named entity annotations : a small medical corpus (QUAERO_FrenchMed) and a larger news corpus (QUAERO_FrenchPress).\n",
    "\n",
    "The datasets are provided in conll-like format and contain five columns separated by white spaces. Each word (or token) corresponds to a line and sentences are separated by an empty line.\n",
    "\n",
    "The columns correspond to: the token index within the sentence, the token, two columns that will not be used in this lab and finally, the last column contains the named entity tag."
   ]
  },
  {
   "cell_type": "code",
   "execution_count": 1,
   "metadata": {},
   "outputs": [],
   "source": [
    "import re \n",
    "import numpy as np \n",
    "import pandas as pd \n",
    "\n",
    "import matplotlib.pyplot as plt \n",
    "%matplotlib inline\n",
    "\n",
    "import warnings\n",
    "warnings.filterwarnings(\"ignore\")"
   ]
  },
  {
   "cell_type": "code",
   "execution_count": 2,
   "metadata": {},
   "outputs": [],
   "source": [
    "# reads the content of the file passed as an argument.\n",
    "# if limit > 0, this function will return only the first \"limit\" sentences in the file.\n",
    "def loadTexts(filename, limit=-1):\n",
    "    f = open(filename, \"r\", encoding='utf-8')\n",
    "    dataset=[]\n",
    "    line =  f.readline()\n",
    "    cpt=1\n",
    "    skip=0\n",
    "    while line :\n",
    "        cleanline = line.strip().lower().split()\n",
    "        if cleanline and (cleanline[1].isalpha() or cleanline[1].isdigit()): \n",
    "            dataset.append(cleanline)\n",
    "        else: \n",
    "            line = f.readline()\n",
    "            skip+=1\n",
    "            continue\n",
    "        if limit > 0 and cpt >= limit: \n",
    "            break\n",
    "        line = f.readline()\n",
    "        cpt+=1        \n",
    "        \n",
    "    f.close()\n",
    "#     print(\"Load \", cpt, \" lines from \", filename , \" / \", skip ,\" lines discarded\")\n",
    "    return np.asarray(dataset)"
   ]
  },
  {
   "cell_type": "code",
   "execution_count": 3,
   "metadata": {},
   "outputs": [],
   "source": [
    "# nb of sentences, words, ner, uniq ner\n",
    "def stat_descrip(dataset):\n",
    "    res = {}\n",
    "    res['Tokens'] = len(dataset)\n",
    "    \n",
    "    ners = {'context':[], 'type':[]}\n",
    "    \n",
    "    for data in dataset:\n",
    "        if data[-1]!='o':\n",
    "            ners['type'].append(data[-1])\n",
    "            ners['context'].append(data[1])\n",
    "            \n",
    "    res['Entities'] = len(ners['context'])\n",
    "    res['Unique Entities'] = len(np.unique(ners['context']))\n",
    "    res['Sentences'] = np.sum(dataset[:,0]=='1')\n",
    "    \n",
    "    return res,ners"
   ]
  },
  {
   "cell_type": "code",
   "execution_count": 4,
   "metadata": {},
   "outputs": [],
   "source": [
    "# load all the texts\n",
    "EMEAtrain=loadTexts('../TP_ISD2020/QUAERO_FrenchMed/EMEA/EMEAtrain_layer1_ID.conll')\n",
    "EMEAdev=loadTexts('../TP_ISD2020/QUAERO_FrenchMed/EMEA/EMEAdev_layer1_ID.conll')\n",
    "EMEAtest=loadTexts('../TP_ISD2020/QUAERO_FrenchMed/EMEA/EMEAtest_layer1_ID.conll')\n",
    "\n",
    "Presstrain=loadTexts('../TP_ISD2020/QUAERO_FrenchPress/fra4_ID.train')\n",
    "Pressdev=loadTexts('../TP_ISD2020/QUAERO_FrenchPress/fra4_ID.dev')\n",
    "Presstest=loadTexts('../TP_ISD2020/QUAERO_FrenchPress/fra4_ID.test')"
   ]
  },
  {
   "cell_type": "markdown",
   "metadata": {},
   "source": [
    "## Descriptive Statistics "
   ]
  },
  {
   "cell_type": "code",
   "execution_count": 5,
   "metadata": {},
   "outputs": [
    {
     "data": {
      "text/html": [
       "<div>\n",
       "<style scoped>\n",
       "    .dataframe tbody tr th:only-of-type {\n",
       "        vertical-align: middle;\n",
       "    }\n",
       "\n",
       "    .dataframe tbody tr th {\n",
       "        vertical-align: top;\n",
       "    }\n",
       "\n",
       "    .dataframe thead th {\n",
       "        text-align: right;\n",
       "    }\n",
       "</style>\n",
       "<table border=\"1\" class=\"dataframe\">\n",
       "  <thead>\n",
       "    <tr style=\"text-align: right;\">\n",
       "      <th></th>\n",
       "      <th>Train.</th>\n",
       "      <th>Dev.</th>\n",
       "      <th>Test.</th>\n",
       "    </tr>\n",
       "  </thead>\n",
       "  <tbody>\n",
       "    <tr>\n",
       "      <td>Tokens</td>\n",
       "      <td>12823</td>\n",
       "      <td>11425</td>\n",
       "      <td>10286</td>\n",
       "    </tr>\n",
       "    <tr>\n",
       "      <td>Entities</td>\n",
       "      <td>3139</td>\n",
       "      <td>2662</td>\n",
       "      <td>2511</td>\n",
       "    </tr>\n",
       "    <tr>\n",
       "      <td>Unique Entities</td>\n",
       "      <td>848</td>\n",
       "      <td>688</td>\n",
       "      <td>613</td>\n",
       "    </tr>\n",
       "    <tr>\n",
       "      <td>Sentences</td>\n",
       "      <td>693</td>\n",
       "      <td>641</td>\n",
       "      <td>571</td>\n",
       "    </tr>\n",
       "  </tbody>\n",
       "</table>\n",
       "</div>"
      ],
      "text/plain": [
       "                 Train.   Dev.  Test.\n",
       "Tokens            12823  11425  10286\n",
       "Entities           3139   2662   2511\n",
       "Unique Entities     848    688    613\n",
       "Sentences           693    641    571"
      ]
     },
     "execution_count": 5,
     "metadata": {},
     "output_type": "execute_result"
    }
   ],
   "source": [
    "EMEA_stat = pd.DataFrame.from_dict(stat_descrip(EMEAtrain)[0], orient='index',columns=['Train.'])\n",
    "\n",
    "\n",
    "EMEA_stat = pd.concat([EMEA_stat, pd.DataFrame.from_dict(stat_descrip(EMEAdev)[0], orient='index',columns=['Dev.'])], \n",
    "                      axis=1)\n",
    "\n",
    "EMEA_stat = pd.concat([EMEA_stat, pd.DataFrame.from_dict(stat_descrip(EMEAtest)[0], orient='index',columns=['Test.'])], \n",
    "                      axis=1)\n",
    "\n",
    "EMEA_stat"
   ]
  },
  {
   "cell_type": "code",
   "execution_count": 6,
   "metadata": {},
   "outputs": [
    {
     "data": {
      "text/html": [
       "<div>\n",
       "<style scoped>\n",
       "    .dataframe tbody tr th:only-of-type {\n",
       "        vertical-align: middle;\n",
       "    }\n",
       "\n",
       "    .dataframe tbody tr th {\n",
       "        vertical-align: top;\n",
       "    }\n",
       "\n",
       "    .dataframe thead th {\n",
       "        text-align: right;\n",
       "    }\n",
       "</style>\n",
       "<table border=\"1\" class=\"dataframe\">\n",
       "  <thead>\n",
       "    <tr style=\"text-align: right;\">\n",
       "      <th></th>\n",
       "      <th>Train.</th>\n",
       "      <th>Dev.</th>\n",
       "      <th>Test.</th>\n",
       "    </tr>\n",
       "  </thead>\n",
       "  <tbody>\n",
       "    <tr>\n",
       "      <td>Tokens</td>\n",
       "      <td>968936</td>\n",
       "      <td>80288</td>\n",
       "      <td>75238</td>\n",
       "    </tr>\n",
       "    <tr>\n",
       "      <td>Entities</td>\n",
       "      <td>126690</td>\n",
       "      <td>9238</td>\n",
       "      <td>5891</td>\n",
       "    </tr>\n",
       "    <tr>\n",
       "      <td>Unique Entities</td>\n",
       "      <td>11181</td>\n",
       "      <td>2377</td>\n",
       "      <td>1984</td>\n",
       "    </tr>\n",
       "    <tr>\n",
       "      <td>Sentences</td>\n",
       "      <td>32350</td>\n",
       "      <td>2501</td>\n",
       "      <td>2396</td>\n",
       "    </tr>\n",
       "  </tbody>\n",
       "</table>\n",
       "</div>"
      ],
      "text/plain": [
       "                 Train.   Dev.  Test.\n",
       "Tokens           968936  80288  75238\n",
       "Entities         126690   9238   5891\n",
       "Unique Entities   11181   2377   1984\n",
       "Sentences         32350   2501   2396"
      ]
     },
     "execution_count": 6,
     "metadata": {},
     "output_type": "execute_result"
    }
   ],
   "source": [
    "Press_stat = pd.DataFrame.from_dict(stat_descrip(Presstrain)[0], orient='index',columns=['Train.'])\n",
    "\n",
    "\n",
    "Press_stat = pd.concat([Press_stat, pd.DataFrame.from_dict(stat_descrip(Pressdev)[0], orient='index',columns=['Dev.'])], \n",
    "                      axis=1)\n",
    "\n",
    "Press_stat = pd.concat([Press_stat, pd.DataFrame.from_dict(stat_descrip(Presstest)[0], orient='index',columns=['Test.'])], \n",
    "                      axis=1)\n",
    "\n",
    "Press_stat"
   ]
  },
  {
   "cell_type": "code",
   "execution_count": 7,
   "metadata": {},
   "outputs": [],
   "source": [
    "def plot_freq(data, label):\n",
    "    \n",
    "    plt.bar((*np.unique(data, return_counts=True))) \n",
    "    plt.xlabel('Entity')\n",
    "    plt.ylabel('Freq')\n",
    "    plt.title('Entity frequency of '+str(label))"
   ]
  },
  {
   "cell_type": "code",
   "execution_count": 8,
   "metadata": {},
   "outputs": [
    {
     "data": {
      "text/plain": [
       "<Figure size 432x288 with 0 Axes>"
      ]
     },
     "metadata": {},
     "output_type": "display_data"
    },
    {
     "data": {
      "image/png": "[encoded data removed]",
      "text/plain": [
       "<Figure size 1080x504 with 3 Axes>"
      ]
     },
     "metadata": {
      "needs_background": "light"
     },
     "output_type": "display_data"
    }
   ],
   "source": [
    "plt.subplots_adjust(hspace=3) \n",
    "fig=plt.figure(figsize=(15,7))\n",
    "\n",
    "plt.subplot(311)\n",
    "plot_freq(stat_descrip(EMEAtrain)[1]['type'],label='EMEA_train')\n",
    "\n",
    "plt.subplot(312)\n",
    "plot_freq(stat_descrip(EMEAdev)[1]['type'],label='EMEA_dev')\n",
    "\n",
    "plt.subplot(313)\n",
    "plot_freq(stat_descrip(EMEAtest)[1]['type'],label='EMEA_test')\n",
    "fig.tight_layout()\n",
    "\n",
    "plt.show()"
   ]
  },
  {
   "cell_type": "code",
   "execution_count": 9,
   "metadata": {},
   "outputs": [
    {
     "data": {
      "text/plain": [
       "<Figure size 432x288 with 0 Axes>"
      ]
     },
     "metadata": {},
     "output_type": "display_data"
    },
    {
     "data": {
      "image/png": "[encoded data removed]",
      "text/plain": [
       "<Figure size 720x504 with 3 Axes>"
      ]
     },
     "metadata": {
      "needs_background": "light"
     },
     "output_type": "display_data"
    }
   ],
   "source": [
    "plt.subplots_adjust(hspace=3) \n",
    "fig=plt.figure(figsize=(10,7))\n",
    "\n",
    "plt.subplot(311)\n",
    "plot_freq(stat_descrip(Presstrain)[1]['type'],label='Press_train')\n",
    "\n",
    "plt.subplot(312)\n",
    "plot_freq(stat_descrip(Pressdev)[1]['type'],label='Press_dev')\n",
    "\n",
    "plt.subplot(313)\n",
    "plot_freq(stat_descrip(Presstest)[1]['type'],label='Press_test')\n",
    "fig.tight_layout()\n",
    "\n",
    "plt.show()"
   ]
  }
 ],
 "metadata": {
  "kernelspec": {
   "display_name": "Python 3",
   "language": "python",
   "name": "python3"
  },
  "language_info": {
   "codemirror_mode": {
    "name": "ipython",
    "version": 3
   },
   "file_extension": ".py",
   "mimetype": "text/x-python",
   "name": "python",
   "nbconvert_exporter": "python",
   "pygments_lexer": "ipython3",
   "version": "3.7.4"
  },
  "toc": {
   "base_numbering": 1,
   "nav_menu": {},
   "number_sections": true,
   "sideBar": true,
   "skip_h1_title": false,
   "title_cell": "Table of Contents",
   "title_sidebar": "Contents",
   "toc_cell": true,
   "toc_position": {},
   "toc_section_display": true,
   "toc_window_display": false
  }
 },
 "nbformat": 4,
 "nbformat_minor": 2
}
